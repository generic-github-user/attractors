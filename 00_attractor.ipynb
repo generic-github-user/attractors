{
 "cells": [
  {
   "cell_type": "code",
   "execution_count": null,
   "metadata": {},
   "outputs": [],
   "source": [
    "# default_exp core"
   ]
  },
  {
   "cell_type": "markdown",
   "metadata": {},
   "source": [
    "# attractor\n",
    "\n",
    "The `attractor` module contains classes that generate roulette curves (\"spirographs\"), strange attractors, and other dynamical systems. It is designed with generalization and modularity in mind, so the systems can be simulated in an arbitrary number of dimensions and allow versatile rules for generation. The main goals of this project are:\n",
    "\n",
    " - Intuitive, object-oriented methods for simulating, analyzing, and aggregating statistics for certain classes of dynamical systems\n",
    " - Customizable and efficient visualization of both individual systems and classes of systems\n",
    " - Tools for painlessly starting and stopping simulations/renderers, caching/storing/loading results, and reusing or tweaking partial results\n",
    " - Panels for interactive exploration of attractor systems built on real-time adaptive simulations & rendering"
   ]
  },
  {
   "cell_type": "code",
   "execution_count": null,
   "metadata": {},
   "outputs": [],
   "source": [
    "#hide\n",
    "from nbdev.showdoc import *"
   ]
  },
  {
   "cell_type": "code",
   "execution_count": null,
   "metadata": {},
   "outputs": [],
   "source": [
    "#export\n",
    "\n",
    "# %matplotlib widget\n",
    "import IPython\n",
    "# IPython.get_ipython().run_line_magic('matplotlib', 'widget')\n",
    "import matplotlib\n",
    "import matplotlib.pyplot as plt\n",
    "import numpy as np\n",
    "import numba as nb\n",
    "import math\n",
    "import random\n",
    "import time\n",
    "from scipy import signal, misc"
   ]
  },
  {
   "cell_type": "code",
   "execution_count": null,
   "metadata": {},
   "outputs": [],
   "source": [
    "from ipywidgets import interact, interactive, fixed, interact_manual, Layout\n",
    "import ipywidgets as widgets"
   ]
  },
  {
   "cell_type": "code",
   "execution_count": null,
   "metadata": {},
   "outputs": [],
   "source": [
    "# todo: multipoint systems\n",
    "# todo: chaos analysis"
   ]
  },
  {
   "cell_type": "code",
   "execution_count": null,
   "metadata": {},
   "outputs": [],
   "source": [
    "#export\n",
    "\n",
    "class Attractor:\n",
    "    def __init__(self):\n",
    "        pass"
   ]
  },
  {
   "cell_type": "code",
   "execution_count": null,
   "metadata": {},
   "outputs": [],
   "source": [
    "#export\n",
    "\n",
    "class IteratedFunctionSystem(Attractor):\n",
    "    def __init__(self):\n",
    "        pass"
   ]
  },
  {
   "cell_type": "code",
   "execution_count": null,
   "metadata": {},
   "outputs": [],
   "source": [
    "#export\n",
    "\n",
    "@nb.njit\n",
    "def rotation_matrix(a):\n",
    "    sin = np.sin(a)\n",
    "    cos = np.cos(a)\n",
    "    R = [\n",
    "        [cos, -sin],\n",
    "        [sin, cos]\n",
    "    ]\n",
    "    return np.array(R)"
   ]
  },
  {
   "cell_type": "code",
   "execution_count": null,
   "metadata": {},
   "outputs": [],
   "source": [
    "#export\n",
    "\n",
    "@nb.njit\n",
    "def rotate(a, b, t):\n",
    "#         if type(t) in [int, float]:\n",
    "#         if isinstance(t, (int, float)):\n",
    "    t = rotation_matrix(t)\n",
    "\n",
    "#         return (rMatrix @ (a - b)) + b\n",
    "    return (t @ (a - b)) + b"
   ]
  },
  {
   "cell_type": "code",
   "execution_count": null,
   "metadata": {},
   "outputs": [],
   "source": [
    "#export\n",
    "\n",
    "@nb.njit\n",
    "def simulate_accelerated(speeds, pivots, center, angles, start, points, steps=100, clip=True):\n",
    "    \"\"\"\n",
    "    Efficiently simulate a system of rotating segments joined by pivots using Numba to JIT-compile operations on NumPy arrays.\n",
    "    \n",
    "    - `steps`: integer >=1; the number of timesteps to simulate\n",
    "    - `clip`: `boolean`; whether to limit the maximum angle of each section (if `True`, the values will wrap around to 0; defaults to `True`)\n",
    "    \"\"\"\n",
    "#     todo: reuse code across this function and the other simulate function\n",
    "\n",
    "#     assert type(steps) is int\n",
    "#     assert isinstance(steps, int)\n",
    "#     assert steps >= 1\n",
    "#     assert len(speeds) > 0\n",
    "#     assert len(pivots) > 0\n",
    "    \n",
    "    rMatrices = []\n",
    "    for s in speeds:\n",
    "        rMatrices.append(rotation_matrix(s))\n",
    "    num_pivots = len(pivots)\n",
    "    for s in range(steps):\n",
    "        for l in list(range(num_pivots)):\n",
    "            rMatrix = rMatrices[l]\n",
    "            offsets = center if l == 0 else pivots[l-1]\n",
    "            angles[l:] += speeds[l]\n",
    "            if clip:\n",
    "                angles[l:] %= 2 * math.pi\n",
    "        prev = rotate(start[0], center, angles[0])\n",
    "        for p in range(1, num_pivots):\n",
    "            pivots[p] = rotate(start[p], center, angles[p]) + prev\n",
    "            prev = pivots[p]\n",
    "#         if self.live_rendering:\n",
    "#             self.draw_point(self.pivots[-1].copy(), 'pixel')\n",
    "#         else:\n",
    "        points = np.append(points, np.expand_dims(pivots[-1], axis=0), axis=0)\n",
    "    return points\n",
    "# dynamic wrappers for Numba functions"
   ]
  },
  {
   "cell_type": "code",
   "execution_count": null,
   "metadata": {},
   "outputs": [
    {
     "data": {
      "text/html": [
       "<h4 id=\"simulate_accelerated\" class=\"doc_header\"><code>simulate_accelerated</code><a href=\"__main__.py#L3\" class=\"source_link\" style=\"float:right\">[source]</a></h4><blockquote><p><code>simulate_accelerated</code>(<strong><code>speeds</code></strong>, <strong><code>pivots</code></strong>, <strong><code>center</code></strong>, <strong><code>angles</code></strong>, <strong><code>start</code></strong>, <strong><code>points</code></strong>, <strong><code>steps</code></strong>=<em><code>100</code></em>, <strong><code>clip</code></strong>=<em><code>True</code></em>)</p>\n",
       "</blockquote>\n",
       "<p>Efficiently simulate a system of rotating segments joined by pivots using Numba to JIT-compile operations on NumPy arrays.</p>\n",
       "<ul>\n",
       "<li><code>steps</code>: integer &gt;=1; the number of timesteps to simulate</li>\n",
       "<li><code>clip</code>: <code>boolean</code>; whether to limit the maximum angle of each section (if <code>True</code>, the values will wrap around to 0; defaults to <code>True</code>)</li>\n",
       "</ul>\n"
      ]
     },
     "metadata": {},
     "output_type": "display_data"
    }
   ],
   "source": [
    "doc(simulate_accelerated)"
   ]
  },
  {
   "cell_type": "code",
   "execution_count": null,
   "metadata": {},
   "outputs": [],
   "source": [
    "#export\n",
    "\n",
    "# @nb.jit\n",
    "def line(start, stop, bg, width=1., quality=5.):\n",
    "#     if bg is None:\n",
    "#         bg = np.zeros((50, 50))\n",
    "#     start = np.array(start, dtype=float)\n",
    "#     stop = np.array(stop, dtype=float)\n",
    "    assert quality >= 1\n",
    "    assert width > 0\n",
    "    \n",
    "    quality *= np.linalg.norm(np.subtract(stop, start))\n",
    "    lin = np.linspace(0, 1, round(quality))\n",
    "#     coords = np.stack([[np.interp(lin, [0,1], [0, p[i]]) for p in [start, stop]] for i in range(0, 2)]).T\n",
    "#     j = []\n",
    "#     for i in range(0, 2):\n",
    "#         j.append(np.interp(lin, [0,1], [start[i], stop[i]]))\n",
    "    j = [np.interp(lin, [0,1], [start[i], stop[i]]) for i in [0, 1]]\n",
    "    coords = np.stack(j).T\n",
    "    for pos in coords:\n",
    "        x, y = pos#.astype(int)\n",
    "        w = width/2\n",
    "        bg[round(x-w):round(x+w), round(y-w):round(y+w)] += 1\n",
    "    return bg"
   ]
  },
  {
   "cell_type": "code",
   "execution_count": null,
   "metadata": {},
   "outputs": [
    {
     "data": {
      "application/vnd.jupyter.widget-view+json": {
       "model_id": "288801f914974b4380715c5e4d6af960",
       "version_major": 2,
       "version_minor": 0
      },
      "text/plain": [
       "Canvas(toolbar=Toolbar(toolitems=[('Home', 'Reset original view', 'home', 'home'), ('Back', 'Back to previous …"
      ]
     },
     "metadata": {},
     "output_type": "display_data"
    }
   ],
   "source": [
    "im = line(\n",
    "    np.array([5., 10.]),\n",
    "    np.array([40., 40.]),\n",
    "    np.zeros((50, 50)),\n",
    "    width=1\n",
    ")\n",
    "# print(im.max())\n",
    "plt.close('all')\n",
    "fig, ax = plt.subplots()\n",
    "ax.imshow(im, interpolation='none')\n",
    "plt.show()"
   ]
  },
  {
   "cell_type": "code",
   "execution_count": null,
   "metadata": {},
   "outputs": [],
   "source": [
    "#export\n",
    "\n",
    "# @nb.jit\n",
    "class RouletteCurve(Attractor):\n",
    "    def __init__(self, center=[0, 0], num_sections=4, lengths=None, speeds=None, random_distribution='uniform'):\n",
    "        \"\"\"\n",
    "        Create a new `RouletteCurve` object. This subclasses `Attractor` and describes a process where one or more line segments, connected end-to-end, rotate continuously about their pivots/endpoints. The length of each line segment and the speed at which it rotates are adjustable parameters.\n",
    "        \"\"\"\n",
    "        super().__init__()\n",
    "        self.random_distribution = getattr(np.random, random_distribution)\n",
    "        self.rd = self.random_distribution\n",
    "        assert center\n",
    "        self.center = np.array(center, dtype=float)\n",
    "        self.rank = self.center.size\n",
    "#         use rank?\n",
    "        if lengths is None:\n",
    "            assert num_sections\n",
    "            lengths = np.random.uniform(-2, 2, num_sections)\n",
    "        if speeds is None:\n",
    "            assert num_sections\n",
    "            speeds = np.random.normal(0, 2, num_sections)\n",
    "        self.lengths = RouletteCurve.randomize_list(lengths).astype(float)\n",
    "        self.speeds = RouletteCurve.randomize_list(speeds).astype(float)\n",
    "#         self.angles = np.random.normal(0, 2*math.pi, num_sections).astype(float)\n",
    "        self.angles = np.zeros(num_sections, dtype=float)\n",
    "        self.angles_ = []\n",
    "        self.start = center + np.array([[0, sum(self.lengths[:i])] for i in range(1, len(self.lengths)+1)])\n",
    "        self.start = self.start.astype(float)\n",
    "        self.pivots = self.start.copy()\n",
    "        self.pivots_ = []\n",
    "#         self.points = []\n",
    "        self.points = np.zeros([1, 2])\n",
    "        self.canvas = np.zeros([100, 100])\n",
    "        self.position = 0\n",
    "        \n",
    "        self.zoom = 10\n",
    "        self.offset = 0\n",
    "        self.N = 0\n",
    "        self.live_rendering = False\n",
    "        \n",
    "#         See colormaps by category at https://matplotlib.org/stable/tutorials/colors/colormaps.html; used here are the \"sequential\" cmaps and a few others\n",
    "        self.cmaps = ['inferno', 'plasma', 'rainbow', 'hot', 'cool', 'autumn', 'winter', 'summer'] + [\n",
    "            'Greys', 'Purples', 'Blues', 'Greens', 'Oranges', 'Reds',\n",
    "            'YlOrBr', 'YlOrRd', 'OrRd', 'PuRd', 'RdPu', 'BuPu',\n",
    "            'GnBu', 'PuBu', 'YlGnBu', 'PuBuGn', 'BuGn', 'YlGn']\n",
    "    \n",
    "    def clear(self):\n",
    "        \"\"\"\n",
    "        Remove all generated points from this `Attractor`\n",
    "        \"\"\"\n",
    "        self.points = np.zeros([1, 2])\n",
    "        return self\n",
    "    \n",
    "    def get_state(self):\n",
    "        \"\"\"\n",
    "        Internal/helper function; gets current values of this instance's speeds, pivots, angles, etc. as a dictionary (mainly for use in typed functions like simulate_accelerated)\n",
    "        \"\"\"\n",
    "        return dict(\n",
    "            speeds=self.speeds,\n",
    "            pivots=self.pivots,\n",
    "            center=self.center,\n",
    "            angles=self.angles,\n",
    "            start=self.start,\n",
    "            points=self.points\n",
    "        )\n",
    "    \n",
    "    def simulate_accelerated(self, steps, duration=None):\n",
    "        \"\"\"\n",
    "        A faster (but less dynamic) version of `simulate` based on Numba. The actual computation is offloaded to a simplified, strongly typed global function. This method is several times faster than `simulate`, especially for more complex `Attractor`s.\n",
    "        \"\"\"\n",
    "        assert steps or duration\n",
    "        start_time = time.time()\n",
    "        sim_args = dict(\n",
    "            **self.get_state(),\n",
    "            steps=steps,\n",
    "            clip=True\n",
    "        )\n",
    "        if duration:\n",
    "            while (time.time() - start_time) < duration:\n",
    "                self.start = self.pivots.copy()\n",
    "                new_points = simulate_accelerated(**sim_args)\n",
    "                self.points = np.append(self.points, new_points.copy(), axis=0)\n",
    "#                 why does refreshing these change the pattern? (m=2)\n",
    "                sim_args = dict(**self.get_state(), steps=steps, clip=True)\n",
    "        else:\n",
    "            self.points = simulate_accelerated(**sim_args)\n",
    "            \n",
    "        return self\n",
    "    \n",
    "#     @nb.jit#(forceobj=True)\n",
    "    def simulate(self, steps=None, render_each=None, render_settings={}, clip=True, duration=None, timecheck_frequency=100, live_rendering=True):\n",
    "        \"\"\"\n",
    "        Simulate the system by calculating the position of each point from data about the preceding points, and updating the internal state accordingly.\n",
    "        \n",
    "        - `steps`: (optional) integer >=1; the number of timesteps to simulate\n",
    "        - `render_each`: (optional) integer >=1 representing how many steps to run before re-rendering the simulation result\n",
    "        - `render_settings`: (optional) a `dictionary` that will be passed to `render` if using `render_each`\n",
    "        - `clip`: `boolean`; whether to limit the maximum angle of each section (if `True`, the values will wrap around to 0; defaults to `True`)\n",
    "        - `duration`: `float` or `int` >0; the maximum length of time, in seconds, to run the simulation for; if `steps` is not provided, the simulation will run until this amount of time has elapsed\n",
    "        - `timecheck_frequency`: Not yet documented\n",
    "        - `live_rendering`: Not yet documented\n",
    "        \"\"\"\n",
    "        \n",
    "        self.live_rendering = live_rendering\n",
    "        start_time = time.time()\n",
    "        rMatrices = []\n",
    "        assert self.speeds\n",
    "        for s in self.speeds:\n",
    "#             theta = 1 * self.speeds[l]\n",
    "            rMatrices.append(rotation_matrix(s))\n",
    "        print(duration)\n",
    "#         for s in range(steps):\n",
    "        assert steps or duration, 'Either the number of steps to simulate or the length of time to run the simulation for must be provided.'\n",
    "        if duration:\n",
    "            assert duration > 0\n",
    "            assert isinstance(duration, (int, float))\n",
    "        s = 0\n",
    "        while (s < steps if steps else True):\n",
    "#             last = self.pivots.copy()\n",
    "#             for l in list(range(len(self.pivots)))[::-1]:\n",
    "            gamma = 0\n",
    "            num_pivots = len(self.pivots)\n",
    "            for l in list(range(num_pivots)):\n",
    "#             theta = 1 * self.speeds\n",
    "                rMatrix = rMatrices[l]\n",
    "#                 rMatrix = np.array(rMatrix)#.swapaxes(0,2)\n",
    "                offsets = self.center if l == 0 else self.pivots[l-1]#.copy() #?\n",
    "#                 for f in list(range(l, num_pivots)):\n",
    "    #                 print(s, rMatrix)\n",
    "        #             print(self.pivots[:-1].shape)\n",
    "    #                 offsets = np.concatenate([self.center[np.newaxis,...], self.pivots[:-1]], axis=0)\n",
    "    #                 offsets=np.array(0)\n",
    "    #                 len(self.pivots)-1\n",
    "    #                 print(offsets)\n",
    "        #             print(offsets.shape, rMatrix.shape, self.pivots.shape)\n",
    "    #                 self.pivots[l] = (last[l] - offsets) @ rMatrix + offsets\n",
    "\n",
    "    #                 func of t?\n",
    "    #                 delta = (last[l] - offsets) @ rMatrix + offsets\n",
    "#                     delta = (rMatrix @ (self.pivots[f] - offsets)) + offsets# + gamma\n",
    "    #                 print(delta)\n",
    "#                     gamma += delta\n",
    "#                     self.pivots[f] = delta\n",
    "\n",
    "                self.angles[l:] += self.speeds[l]\n",
    "                if clip:\n",
    "                    self.angles[l:] %= 2 * math.pi\n",
    "#                 self.angles_.append(self.angles.copy())\n",
    "\n",
    "    #             self.points.append(np.clip(self.pivots[-1], 0, np.array(self.canvas.shape)))\n",
    "#     sequencemethod\n",
    "\n",
    "            prev = rotate(self.start[0], self.center, self.angles[0])\n",
    "            for p in range(1, num_pivots):\n",
    "#                 print(p, prev)\n",
    "                self.pivots[p] = rotate(self.start[p], self.center, self.angles[p]) + prev\n",
    "                prev = self.pivots[p]\n",
    "            \n",
    "            if self.live_rendering:\n",
    "                self.draw_point(self.pivots[-1].copy(), mode='pixel')\n",
    "            else:\n",
    "#                 self.pivots_.append(self.pivots.copy())\n",
    "#                 self.points.append(self.pivots[-1].copy())\n",
    "#                 self.points = np.concatenate([self.points, self.pivots[-1].copy()[np.newaxis, ...]], axis=0)\n",
    "                self.points = np.append(self.points, self.pivots[-1].copy()[np.newaxis, ...], axis=0)\n",
    "            \n",
    "            if render_each is not None:\n",
    "                assert isinstance(render_each, int)\n",
    "                assert render_each >= 1\n",
    "                if s % render_each == 0:\n",
    "                    assert render_settings is none or isinstance(render_settings, dict)\n",
    "                    self.render(**render_settings)\n",
    "        \n",
    "            if (duration is not None) and s % timecheck_frequency == 0:\n",
    "                elapsed = time.time() - start_time\n",
    "                if elapsed > duration:\n",
    "#                     make a function for this?\n",
    "                    comp = f'; {round(s / steps * 100, 3)}% complete)' if steps else ''\n",
    "                    g = 'Terminating simulation early' if steps else 'Ending simulation'\n",
    "                    print(f'{g} after {s+1} steps ({round(elapsed, 3)} seconds elapsed)' + comp)\n",
    "                    break\n",
    "            s += 1\n",
    "        self.N = s\n",
    "        print(f'Finished simulating {steps or s+1} steps in {round(elapsed, 3)} seconds')\n",
    "        return self\n",
    "    \n",
    "    def transform_point(self, p):\n",
    "        p = p.astype(float)\n",
    "        p *= self.zoom\n",
    "#         if recenter:\n",
    "        p += self.offset\n",
    "        p = np.clip(p, 0, np.array(self.canvas.shape)-1)\n",
    "        assert isinstance(p, np.ndarray)\n",
    "        return p\n",
    "    \n",
    "    def draw_point(self, p, mode, blending='add', brush=None):\n",
    "        if type(p) is int:\n",
    "            prev = self.points[p-1]\n",
    "            prev = self.transform_point(prev)\n",
    "            p = self.points[p]\n",
    "        else:\n",
    "            assert isinstance(p, (np.ndarray, list, tuple))\n",
    "        p = self.transform_point(p)\n",
    "        w, h = self.canvas.shape\n",
    "        x, y = p.astype(int)\n",
    "        if mode == 'pixel':\n",
    "            if blending == 'set':\n",
    "                self.canvas[x, y] = 1\n",
    "            elif blending == 'add':\n",
    "                self.canvas[x, y] += 1\n",
    "#                 TODO: add multiply mode\n",
    "            else:\n",
    "                raise ValueError\n",
    "        elif mode in ['dist', 'brush']:\n",
    "            assert isinstance(brush, np.ndarray)\n",
    "            x, y = np.clip(x, 5, w-6), np.clip(y, 5, h-6)\n",
    "            self.canvas[x-2:x+3, y-2:y+3] += brush\n",
    "        elif mode in ['line']:\n",
    "            assert prev is not None\n",
    "            self.canvas = line(prev, p, self.canvas)\n",
    "        else:\n",
    "            raise ValueError\n",
    "        return self\n",
    "    \n",
    "#     @nb.jit(forceobj=True)\n",
    "    def render(self, discard=False, clip=False, axis=None, recenter=True, zoom=None, mode='line', blending='add', hist_args={}, cmap='random', point_value=1, falloff=3, **kwargs):\n",
    "        \"\"\"\n",
    "        Render an image from the list of points stored in the class instance.\n",
    "        \n",
    "        - `discard`: `boolean`; if `True`, clear this `Attractor`'s points after rendering to free up memory\n",
    "        - `axis`: A Matplotlib axis to render the finished image to (if one is not provided, it will be created)\n",
    "        - `zoom`: A scaling factor by which to resize points relative to the `center` before rendering\n",
    "        - `mode`: `str`, one of `pixel`, `dist`/`brush`, `line`, or `hist`\n",
    "            -     `pixel`: Convert each point coordinate to the (integer) coordinate of the nearest pixel\n",
    "            -     `dist`: Generate a \"brush\" based on a distance function relative to the point coordinates, then (for each point) paint this over a region of the canvas centered on that point\n",
    "            -     `line`: Draw a line from the last rendered point to the current one (helpful for reducing the total number of points that must be rendered)\n",
    "            -     `hist`: Generate a 2D histogram using NumPy and display this (similar to `pixel`)\n",
    "        - `blending`: `str`, one of `set`, `add`, or `mul`; how the new pixel value (while rendering a point) should be combined with the current one\n",
    "        - `cmap`: `random` or a Matplotlib colormap; the colormap to pass to `imshow` - if `random`, one will be selected from the sequential colormaps listed in `RouletteCurve().cmaps`\n",
    "        - `point_value`\n",
    "        - `**kwargs`\n",
    "        \"\"\"\n",
    "        \n",
    "        assert mode in ['hist', 'dist', 'brush', 'pixel', 'line']\n",
    "        assert len(self.points) >= 1\n",
    "        self.points = self.points[1:]\n",
    "        cshape = np.array(self.canvas.shape)\n",
    "        self.offset = cshape / 2\n",
    "        if not self.live_rendering:# and (self.points):\n",
    "            if zoom is None:\n",
    "                zoom = np.min(cshape / np.max(np.abs(self.points), axis=0)) * 0.5\n",
    "#             else:\n",
    "            assert isinstance(zoom, (int, float))\n",
    "            self.zoom = zoom\n",
    "#         for p in self.points.copy():\n",
    "        if mode == 'dist':\n",
    "#             grid = np.stack(np.meshgrid([np.arange(5.)]*2))\n",
    "            grid = np.mgrid[0:5, 0:5]\n",
    "            assert isinstance(falloff, int) and falloff >= 1\n",
    "            brush = 1 / np.linalg.norm(grid - 2.5, axis=0, ord=falloff)\n",
    "            print(brush)\n",
    "        \n",
    "        if not self.live_rendering:\n",
    "            if mode == 'hist':\n",
    "                assert hist_args is None or isinstance(hist_args, dict)\n",
    "                self.canvas = np.histogram2d(*np.array(self.points).T, **hist_args)[0]\n",
    "                assert isinstance(point_value, (int, float))\n",
    "#                 self.canvas *= point_value\n",
    "                if blending == 'set':\n",
    "    #                 self.canvas = np.power(self.canvas, 0)\n",
    "                    self.canvas[self.canvas != 0] = point_value\n",
    "                elif blending == 'mul':\n",
    "                    self.canvas = point_value ** self.canvas\n",
    "                else:\n",
    "                    assert blending == 'add'\n",
    "            else:\n",
    "                if mode in ['line']:\n",
    "                    for i in range(1, len(self.points)):\n",
    "#                         self.canvas = line(self.points[i-1], self.points[i], self.canvas)\n",
    "                        self.draw_point(i, mode=mode)\n",
    "                else:\n",
    "                    for i, p in enumerate(map(np.copy, self.points)):\n",
    "            #             for j, p in enumerate(px):\n",
    "                        if mode in ['dist', 'brush']:\n",
    "                            self.draw_point(p, mode=mode, brush=brush)\n",
    "                        else:\n",
    "                            self.draw_point(p, mode=mode)\n",
    "            #                 self.canvas[x, y] = j+1\n",
    "            #         plt.style.use('fivethirtyeight')\n",
    "        \n",
    "        \n",
    "#         pendulums\n",
    "        if cmap == 'random':\n",
    "            cmap = random.choice(self.cmaps)\n",
    "        else:\n",
    "            assert (isinstance(cmap, str) and cmap in self.cmaps) or (isinstance(plt.cm.colors.Colormap) or cmap in plt.colormaps())\n",
    "            \n",
    "        plot_args = dict(X=np.flip(self.canvas.T, axis=0), interpolation='none', cmap=cmap, **kwargs)\n",
    "        if axis:\n",
    "            P = axis.imshow(**plot_args)\n",
    "        else:\n",
    "            plt.style.use('classic')\n",
    "            P = plt.imshow(**plot_args)\n",
    "            plt.grid('off')\n",
    "        \n",
    "        if discard:\n",
    "            self.clear()\n",
    "        if clip:\n",
    "            assert len(clip) == 2\n",
    "            assert isinstance(clip, (np.ndarray, list, tuple))\n",
    "            self.canvas = np.clip(self.canvas, *clip)\n",
    "        \n",
    "        return P\n",
    "#         return self\n",
    "    \n",
    "    @staticmethod\n",
    "    def randomize_list(L):\n",
    "        assert isinstance(L, (np.ndarray, list, tuple))\n",
    "        return np.array([self.rd(*x) if type(x) in [list, tuple] else x for x in L])"
   ]
  },
  {
   "cell_type": "code",
   "execution_count": null,
   "metadata": {},
   "outputs": [],
   "source": [
    "import matplotlib.pyplot as plt"
   ]
  },
  {
   "cell_type": "code",
   "execution_count": null,
   "metadata": {},
   "outputs": [
    {
     "data": {
      "text/plain": [
       "<matplotlib.colors.Colormap at 0x23dba31bd60>"
      ]
     },
     "execution_count": null,
     "metadata": {},
     "output_type": "execute_result"
    }
   ],
   "source": [
    "# plt.cool()\n",
    "plt.cm.colors.Colormap('cool')"
   ]
  },
  {
   "cell_type": "code",
   "execution_count": null,
   "metadata": {},
   "outputs": [
    {
     "data": {
      "application/vnd.jupyter.widget-view+json": {
       "model_id": "92cd44783bc44dff9f13ba099c197e17",
       "version_major": 2,
       "version_minor": 0
      },
      "text/plain": [
       "Canvas(toolbar=Toolbar(toolitems=[('Home', 'Reset original view', 'home', 'home'), ('Back', 'Back to previous …"
      ]
     },
     "metadata": {},
     "output_type": "display_data"
    },
    {
     "name": "stdout",
     "output_type": "stream",
     "text": [
      "[[ 0.         -1.09736288]\n",
      " [-0.06505168  1.22416644]] [0. 0.]\n"
     ]
    }
   ],
   "source": [
    "m = 2\n",
    "plt.close('all')\n",
    "R = RouletteCurve(num_sections=m)\n",
    "# R = RouletteCurve(lengths=[10]*m, speeds=[1]*m)\n",
    "# print(R.pivots, R.points)\n",
    "# print(R.start, R.lengths)\n",
    "# R.simulate(live_rendering=False, duration=5).render(mode='hist', blending='add', hist_args=dict(bins=100)\n",
    "#                           cmap=random.choice(plt.colormaps())\n",
    "#                          )\n",
    "# todo: estimate completion time\n",
    "# print(R.start, R.lengths)\n",
    "\n",
    "R.simulate_accelerated(steps=100).render(discard=True, mode='line', blending='add', point_value=1, hist_args=dict(bins=150))\n",
    "print(R.pivots, R.center)"
   ]
  },
  {
   "cell_type": "code",
   "execution_count": null,
   "metadata": {},
   "outputs": [
    {
     "data": {
      "text/html": [
       "<h4 id=\"RouletteCurve.render\" class=\"doc_header\"><code>RouletteCurve.render</code><a href=\"__main__.py#L207\" class=\"source_link\" style=\"float:right\">[source]</a></h4><blockquote><p><code>RouletteCurve.render</code>(<strong><code>discard</code></strong>=<em><code>False</code></em>, <strong><code>clip</code></strong>=<em><code>False</code></em>, <strong><code>axis</code></strong>=<em><code>None</code></em>, <strong><code>recenter</code></strong>=<em><code>True</code></em>, <strong><code>zoom</code></strong>=<em><code>None</code></em>, <strong><code>mode</code></strong>=<em><code>'line'</code></em>, <strong><code>blending</code></strong>=<em><code>'add'</code></em>, <strong><code>hist_args</code></strong>=<em><code>{}</code></em>, <strong><code>cmap</code></strong>=<em><code>'random'</code></em>, <strong><code>point_value</code></strong>=<em><code>1</code></em>, <strong>**<code>kwargs</code></strong>)</p>\n",
       "</blockquote>\n",
       "<p>Render an image from the list of points stored in the class instance.</p>\n",
       "<ul>\n",
       "<li><code>discard</code>: <code>boolean</code>; if <code>True</code>, clear this <a href=\"/attractors/attractor.html#Attractor\"><code>Attractor</code></a>'s points after rendering to free up memory</li>\n",
       "<li><code>axis</code>: A Matplotlib axis to render the finished image to (if one is not provided, it will be created)</li>\n",
       "<li><code>zoom</code>: A scaling factor by which to resize points relative to the <code>center</code> before rendering</li>\n",
       "<li><code>mode</code>: <code>str</code>, one of <code>pixel</code>, <code>dist</code>/<code>brush</code>, <code>line</code>, or <code>hist</code><ul>\n",
       "<li><code>pixel</code>: Convert each point coordinate to the (integer) coordinate of the nearest pixel</li>\n",
       "<li><code>dist</code>: Generate a \"brush\" based on a distance function relative to the point coordinates, then (for each point) paint this over a region of the canvas centered on that point</li>\n",
       "<li><code>line</code>: Draw a line from the last rendered point to the current one (helpful for reducing the total number of points that must be rendered)</li>\n",
       "<li><code>hist</code>: Generate a 2D histogram using NumPy and display this (similar to <code>pixel</code>)</li>\n",
       "</ul>\n",
       "</li>\n",
       "<li><code>blending</code>: <code>str</code>, one of <code>set</code>, <code>add</code>, or <code>mul</code>; how the new pixel value (while rendering a point) should be combined with the current one</li>\n",
       "<li><code>cmap</code>: <code>random</code> or a Matplotlib colormap; the colormap to pass to <code>imshow</code> - if <code>random</code>, one will be selected from the sequential colormaps listed in <code>RouletteCurve().cmaps</code></li>\n",
       "<li><code>point_value</code></li>\n",
       "<li><code>**kwargs</code></li>\n",
       "</ul>\n"
      ]
     },
     "metadata": {},
     "output_type": "display_data"
    }
   ],
   "source": [
    "# doc(RouletteCurve.simulate)\n",
    "doc(RouletteCurve.render)"
   ]
  },
  {
   "cell_type": "code",
   "execution_count": null,
   "metadata": {},
   "outputs": [
    {
     "data": {
      "text/plain": [
       "array([0.5, 1. ])"
      ]
     },
     "execution_count": null,
     "metadata": {},
     "output_type": "execute_result"
    }
   ],
   "source": [
    "np.interp([0.1, 0.2], [0,1], [0,5])"
   ]
  },
  {
   "cell_type": "code",
   "execution_count": null,
   "metadata": {},
   "outputs": [
    {
     "name": "stdout",
     "output_type": "stream",
     "text": [
      "255255\n"
     ]
    }
   ],
   "source": [
    "R2 = RouletteCurve(num_sections=3).simulate_accelerated(steps=1000, duration=1)\n",
    "R2.render(mode='hist', blending='add', point_value=1, hist_args=dict(bins=200))\n",
    "# why is this so fast?\n",
    "print(len(R2.points))"
   ]
  },
  {
   "cell_type": "code",
   "execution_count": null,
   "metadata": {},
   "outputs": [
    {
     "data": {
      "text/plain": [
       "array([1, 1, 1], dtype=int32)"
      ]
     },
     "execution_count": null,
     "metadata": {},
     "output_type": "execute_result"
    }
   ],
   "source": [
    "1 ** np.array([5, 6, 0])"
   ]
  },
  {
   "cell_type": "code",
   "execution_count": null,
   "metadata": {},
   "outputs": [
    {
     "data": {
      "application/vnd.jupyter.widget-view+json": {
       "model_id": "45b9d215e74a4726b18a303048941de8",
       "version_major": 2,
       "version_minor": 0
      },
      "text/plain": [
       "Canvas(toolbar=Toolbar(toolitems=[('Home', 'Reset original view', 'home', 'home'), ('Back', 'Back to previous …"
      ]
     },
     "metadata": {},
     "output_type": "display_data"
    },
    {
     "data": {
      "application/vnd.jupyter.widget-view+json": {
       "model_id": "9645569d34a1460e9a5e16ae1f30ca42",
       "version_major": 2,
       "version_minor": 0
      },
      "text/plain": [
       "interactive(children=(Dropdown(description='c', options=('inferno', 'plasma', 'rainbow', 'hot', 'cool', 'autum…"
      ]
     },
     "metadata": {},
     "output_type": "display_data"
    }
   ],
   "source": [
    "x = 3\n",
    "plt.close('all')\n",
    "continuous_update = False\n",
    "checkbox = {'Continuous': widgets.Checkbox()}\n",
    "seed = np.random.normal(0, 0.1, [x])\n",
    "layout = Layout(width='500px')\n",
    "slider_settings = dict(continuous_update=continuous_update, layout=layout)\n",
    "speeds = {str(i+1): widgets.FloatSlider(\n",
    "              min = -2.0, \n",
    "              max = 2.0, \n",
    "              step = 0.01, \n",
    "              value = seed[i], **slider_settings) for i in range(x)}\n",
    "fig = plt.figure()\n",
    "ax = fig.add_subplot()\n",
    "quality = {'Quality': widgets.FloatSlider(value=0.1, min=0, max=5, step=0.01, continuous_update=continuous_update)}\n",
    "# widgets.FloatLogSlider\n",
    "quality = {'Points': widgets.FloatLogSlider(value=100, base=10, min=1, max=6, step=0.1, **slider_settings)}\n",
    "resolution = {'Resolution': widgets.IntSlider(value=100, min=1, max=1000, step=1, **slider_settings)}\n",
    "interact_options = speeds | quality | checkbox | resolution\n",
    "@interact(**interact_options)\n",
    "def generate(c=R.cmaps, **interact_options):\n",
    "    for widget in [quality]:\n",
    "        widget[list(widget.keys())[0]].continuous_update = interact_options['Continuous']\n",
    "    \n",
    "#     global speeds\n",
    "    speeds = np.array(list(interact_options.values())[:x])\n",
    "    R = RouletteCurve(lengths=[1]*x, speeds=speeds)\n",
    "    fig.canvas.draw()\n",
    "#     cmap='Blues'\n",
    "    render_options = dict(discard=True, clip=(0, 5), axis=ax, mode='hist', blending='add', hist_args=dict(bins=interact_options['Resolution']), cmap=c)\n",
    "#     R.simulate(live_rendering=False, duration=interact_options['Quality'], render_each=2000, render_settings=render_options)\n",
    "\n",
    "    R.simulate_accelerated(round(interact_options['Points']))\n",
    "    print(len(R.points), R.speeds)\n",
    "    R.render(**render_options)\n",
    "    \n",
    "# update vs setdata vs imshow vs... ?\n",
    "#     plt.show()\n",
    "# todo: simulate multiple tracks in parallel\n",
    "# reuse existing results when changing resolution, colormap, etc."
   ]
  },
  {
   "cell_type": "code",
   "execution_count": null,
   "metadata": {},
   "outputs": [],
   "source": [
    "# dict.values()\n",
    "dict"
   ]
  },
  {
   "cell_type": "code",
   "execution_count": null,
   "metadata": {},
   "outputs": [],
   "source": [
    "v = resolution['Resolution']"
   ]
  },
  {
   "cell_type": "code",
   "execution_count": null,
   "metadata": {},
   "outputs": [
    {
     "data": {
      "application/vnd.jupyter.widget-view+json": {
       "model_id": "3a32bf7b93bd420bb66a2e7c39a0bb8f",
       "version_major": 2,
       "version_minor": 0
      },
      "text/plain": [
       "IntSlider(value=100, continuous_update=False, description='Resolution', layout=Layout(width='500px'), max=1000…"
      ]
     },
     "metadata": {},
     "output_type": "display_data"
    }
   ],
   "source": [
    "v"
   ]
  },
  {
   "cell_type": "code",
   "execution_count": null,
   "metadata": {},
   "outputs": [
    {
     "data": {
      "text/plain": [
       "6.0"
      ]
     },
     "execution_count": null,
     "metadata": {},
     "output_type": "execute_result"
    }
   ],
   "source": [
    "R.canvas.max()"
   ]
  },
  {
   "cell_type": "code",
   "execution_count": null,
   "metadata": {},
   "outputs": [
    {
     "data": {
      "text/plain": [
       "['rainbow',\n",
       " 'hot',\n",
       " 'cool',\n",
       " 'autumn',\n",
       " 'winter',\n",
       " 'summer',\n",
       " 'Greys',\n",
       " 'Purples',\n",
       " 'Blues',\n",
       " 'Greens',\n",
       " 'Oranges',\n",
       " 'Reds',\n",
       " 'YlOrBr',\n",
       " 'YlOrRd',\n",
       " 'OrRd',\n",
       " 'PuRd',\n",
       " 'RdPu',\n",
       " 'BuPu',\n",
       " 'GnBu',\n",
       " 'PuBu',\n",
       " 'YlGnBu',\n",
       " 'PuBuGn',\n",
       " 'BuGn',\n",
       " 'YlGn']"
      ]
     },
     "execution_count": null,
     "metadata": {},
     "output_type": "execute_result"
    }
   ],
   "source": [
    "R.cmaps"
   ]
  },
  {
   "cell_type": "code",
   "execution_count": null,
   "metadata": {},
   "outputs": [
    {
     "data": {
      "application/vnd.jupyter.widget-view+json": {
       "model_id": "7a6cc8444f814654803dc44b33f9eec4",
       "version_major": 2,
       "version_minor": 0
      },
      "text/plain": [
       "interactive(children=(FloatSlider(value=0.04690160617608796, description='1', max=2.0, min=-2.0, step=0.01), F…"
      ]
     },
     "metadata": {},
     "output_type": "display_data"
    }
   ],
   "source": [
    "# @interact(convolve, **dict(zip(map(str, range(1, 10)), [1]*9)))\n",
    "x = 2\n",
    "seed = np.random.normal(0, 0.1, [x**2])\n",
    "seed[seed.size//2] = 1\n",
    "kernel = {str(i+1): widgets.FloatSlider(\n",
    "              min = -2.0, \n",
    "              max = 2.0, \n",
    "              step = 0.01, \n",
    "              value = seed[i]) for i in range(x**2)}\n",
    "\n",
    "conv_settings = dict(mode='full', boundary='symm')\n",
    "@interact(**kernel)\n",
    "def convolve(**kernel):\n",
    "    kernel = np.reshape(list(kernel.values()), [x, x])\n",
    "    plt.imshow(signal.convolve2d(R.canvas, kernel, ), interpolation='none', cmap='Blues')\n",
    "# convolve(kernel)\n",
    "    \n",
    "# iterated convolutions\n",
    "# learning to produce dynamical system rules that fit some objective *\n",
    "# approximate distribution of sample with smooth function?"
   ]
  },
  {
   "cell_type": "code",
   "execution_count": null,
   "metadata": {},
   "outputs": [],
   "source": [
    "# def denoise(pixels):"
   ]
  },
  {
   "cell_type": "code",
   "execution_count": null,
   "metadata": {},
   "outputs": [
    {
     "data": {
      "text/plain": [
       "array([[0., 0., 0., ..., 0., 0., 0.],\n",
       "       [0., 0., 0., ..., 0., 0., 0.],\n",
       "       [0., 0., 0., ..., 0., 0., 0.],\n",
       "       ...,\n",
       "       [0., 0., 0., ..., 0., 0., 0.],\n",
       "       [0., 0., 0., ..., 0., 0., 0.],\n",
       "       [0., 0., 0., ..., 0., 0., 0.]])"
      ]
     },
     "execution_count": null,
     "metadata": {},
     "output_type": "execute_result"
    }
   ],
   "source": [
    "R.canvas"
   ]
  },
  {
   "cell_type": "code",
   "execution_count": null,
   "metadata": {},
   "outputs": [],
   "source": [
    "# hide\n",
    "\n",
    "# random convolutions on noise\n",
    "# apply neural network to each pixel/coordinate\n",
    "\n",
    "# complex-valued dynamical systems\n",
    "\n",
    "# todo: density approximation\n",
    "# nesting spinners?\n",
    "# 'pure' iterated functions *\n",
    "# use ML to estimate histogram levels at each point\n",
    "# stats\n",
    "# ML-based denoising, point generation, etc.\n",
    "\n",
    "# post-processing; e.g., scaling or squaring points\n",
    "# AI upsampling/denoising\n",
    "# compositing\n",
    "# completion percentage\n",
    "# chaos <-> order\n",
    "# store points in compressed format\n",
    "# track compute used\n",
    "# monoids\n",
    "# live editing/interaction\n",
    "# real-time rendering\n",
    "# interpolation\n",
    "# simulatefor\n",
    "# render-partial\n",
    "# live averaging\n",
    "# multidimensional color interpolation\n",
    "# export LaTeX-formatted description of system\n",
    "# todo: various optimizations\n",
    "# todo: scatter plot rendering"
   ]
  },
  {
   "cell_type": "code",
   "execution_count": null,
   "metadata": {},
   "outputs": [],
   "source": [
    "# np.stack(np.mgrid([np.arange(5.)]*2))"
   ]
  },
  {
   "cell_type": "code",
   "execution_count": null,
   "metadata": {},
   "outputs": [],
   "source": [
    "# RouletteCurve.rotate(np.array([0, 5]), np.array([0, 1]), 1)"
   ]
  },
  {
   "cell_type": "code",
   "execution_count": null,
   "metadata": {},
   "outputs": [],
   "source": [
    "theta = 2*math.pi*0.01\n",
    "rMatrix = [\n",
    "    [np.cos(theta), -np.sin(theta)],\n",
    "    [np.sin(theta), np.cos(theta)]\n",
    "]\n",
    "rMatrix = np.array(rMatrix)\n",
    "# rMatrix = np.array([rMatrix]*2).swapaxes(1,2)\n",
    "print(rMatrix)\n",
    "h = np.array([0, 0]).astype(float)\n",
    "X = np.array([[0, 4], [0, 3]])[0].astype(float)\n",
    "Y = np.array([0, 7]).astype(float)\n",
    "Z = np.array([0, 10]).astype(float)\n",
    "print(X.shape)\n",
    "# ((X-h)[0] @ (rMatrix)[0])+h\n",
    "\n",
    "xs, ys, zs = [], [], []\n",
    "al2d = np.atleast_2d\n",
    "def W(j, k):\n",
    "    return ((rMatrix@(al2d(j).T-al2d(k).T))+al2d(k).T).T.squeeze()\n",
    "for I in range(1001):\n",
    "#     X=(X-h)@rMatrix+h\n",
    "#     Y=(rMatrix@(Y-X))+X\n",
    "\n",
    "    c = map(np.copy, [X, Y, Z])\n",
    "    X_, Y_, Z_ = c\n",
    "    X=W(X,h)\n",
    "    Y=W(Y,X_)\n",
    "#     Z=W(Z,Y_)\n",
    "    \n",
    "    xs+=[X]\n",
    "    ys+=[Y]\n",
    "#     zs+=[Z]\n",
    "print(X)\n",
    "print(Y)\n",
    "print(Z)\n",
    "q=2\n",
    "plt.plot(np.transpose([np.arange(0,1001)]*q),np.array([xs, ys, zs][:q])[:,:,0].T)\n",
    "# print(Z)\n",
    "# loop aggregators"
   ]
  },
  {
   "cell_type": "code",
   "execution_count": null,
   "metadata": {},
   "outputs": [],
   "source": [
    "# type(R.angles[0]) is float\n",
    "isinstance(R.angles[0], float)"
   ]
  },
  {
   "cell_type": "code",
   "execution_count": null,
   "metadata": {},
   "outputs": [],
   "source": [
    "# plt.plot(np.array(R.angles_)[:, 2])\n",
    "# plt.plot(np.array(R.pivots_)[:,2,:].sum(axis=1))\n",
    "# np.array(R.pivots_)[:5,1,0]\n",
    "# R.points"
   ]
  },
  {
   "cell_type": "code",
   "execution_count": null,
   "metadata": {},
   "outputs": [],
   "source": []
  }
 ],
 "metadata": {
  "kernelspec": {
   "display_name": "Python 3",
   "language": "python",
   "name": "python3"
  }
 },
 "nbformat": 4,
 "nbformat_minor": 4
}
